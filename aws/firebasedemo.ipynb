{
 "cells": [
  {
   "cell_type": "code",
   "execution_count": 1,
   "metadata": {},
   "outputs": [
    {
     "name": "stderr",
     "output_type": "stream",
     "text": [
      "/home/ubuntu/.local/lib/python3.10/site-packages/xgboost/compat.py:31: FutureWarning: pandas.Int64Index is deprecated and will be removed from pandas in a future version. Use pandas.Index with the appropriate dtype instead.\n",
      "  from pandas import MultiIndex, Int64Index\n",
      "/usr/lib/python3/dist-packages/pkg_resources/__init__.py:116: PkgResourcesDeprecationWarning: 0.1.43ubuntu1 is an invalid version and will not be supported in a future release\n",
      "  warnings.warn(\n",
      "/usr/lib/python3/dist-packages/pkg_resources/__init__.py:116: PkgResourcesDeprecationWarning: 1.1build1 is an invalid version and will not be supported in a future release\n",
      "  warnings.warn(\n",
      "/home/ubuntu/.local/lib/python3.10/site-packages/sklearn/base.py:329: UserWarning: Trying to unpickle estimator GridSearchCV from version 0.24.1 when using version 1.1.2. This might lead to breaking code or invalid results. Use at your own risk. For more info please refer to:\n",
      "https://scikit-learn.org/stable/model_persistence.html#security-maintainability-limitations\n",
      "  warnings.warn(\n"
     ]
    }
   ],
   "source": [
    "import json\n",
    "from time import time\n",
    "import firebase_admin\n",
    "from firebase_admin import credentials\n",
    "from firebase_admin import firestore\n",
    "import requests\n",
    "import pandas as pd\n",
    "from numpy import mean\n",
    "import pandas as pd\n",
    "import boto3\n",
    "import os\n",
    "import time\n",
    "from sklearn.datasets import make_classification\n",
    "from sklearn.model_selection import cross_val_score\n",
    "from sklearn.model_selection import RepeatedStratifiedKFold\n",
    "from sklearn.model_selection import GridSearchCV\n",
    "from xgboost import XGBClassifier\n",
    "from util.preprocess import *\n",
    "import trp\n",
    "import pickle\n",
    "# load saved model\n",
    "with open('model_pkl2' , 'rb') as f:\n",
    "    model = pickle.load(f)"
   ]
  },
  {
   "cell_type": "code",
   "execution_count": 2,
   "metadata": {},
   "outputs": [
    {
     "data": {
      "text/plain": [
       "<firebase_admin.App at 0x7f23a828d8a0>"
      ]
     },
     "execution_count": 2,
     "metadata": {},
     "output_type": "execute_result"
    }
   ],
   "source": [
    "# Use a service account\n",
    "cred = credentials.Certificate('medisca-firebase-adminsdk-6jxve-caa474f363.json')\n",
    "firebase_admin.initialize_app(cred)"
   ]
  },
  {
   "cell_type": "code",
   "execution_count": 3,
   "metadata": {},
   "outputs": [],
   "source": [
    "def extract_text(textractJobId,response):\n",
    "    pages = []\n",
    "\n",
    "    time.sleep(5)\n",
    "    textract = boto3.client('textract')\n",
    "    response = textract.get_document_analysis(JobId=textractJobId)\n",
    "\n",
    "    pages.append(response)\n",
    "\n",
    "    nextToken = None\n",
    "    if('NextToken' in response):\n",
    "        nextToken = response['NextToken']\n",
    "\n",
    "    while(nextToken):\n",
    "        time.sleep(5)\n",
    "        textract = boto3.client('textract')\n",
    "        response = textract.get_document_analysis(JobId=textractJobId, NextToken=nextToken)\n",
    "\n",
    "        pages.append(response)\n",
    "        print(\"Resultset page recieved: {}\".format(len(pages)))\n",
    "        nextToken = None\n",
    "        if('NextToken' in response):\n",
    "            nextToken = response['NextToken']\n",
    "    \n",
    "    return pages "
   ]
  },
  {
   "cell_type": "code",
   "execution_count": 4,
   "metadata": {},
   "outputs": [],
   "source": [
    "def extractTextract(textractObjectName):\n",
    "    textract = boto3.client('textract')\n",
    "    response = textract.start_document_analysis(\n",
    "        DocumentLocation={\n",
    "            'S3Object': {\n",
    "            'Bucket': 'mediscan-aws-hackathon',\n",
    "            'Name': textractObjectName,\n",
    "\n",
    "        }\n",
    "            },\n",
    "        FeatureTypes=[\n",
    "            'TABLES',\n",
    "        ]\n",
    "        )\n",
    "\n",
    "    textractJobId = response[\"JobId\"]\n",
    "    print('job id is: ',textractJobId)\n",
    "    time.sleep(15)\n",
    "    response = textract.get_document_analysis(JobId=textractJobId)\n",
    "    status = response[\"JobStatus\"]\n",
    "\n",
    "    while(status == \"IN_PROGRESS\"):\n",
    "        time.sleep(5)\n",
    "        response = textract.get_document_analysis(JobId=textractJobId)\n",
    "        status = response[\"JobStatus\"]\n",
    "        print(\"Textract Job status: {}\".format(status))\n",
    "    \n",
    "    pages=extract_text(textractJobId,response)\n",
    "    doc = trp.Document(pages)\n",
    "    return doc"
   ]
  },
  {
   "cell_type": "code",
   "execution_count": 5,
   "metadata": {},
   "outputs": [],
   "source": [
    "def extractMedical(doc):\n",
    "    maxLength = 10000\n",
    "    comprehendResponse = []\n",
    "    comprehend_medical_client = boto3.client(service_name='comprehendmedical', region_name='ap-southeast-2')\n",
    "    for page in doc.pages:\n",
    "        pageText = page.text\n",
    "    \n",
    "        for i in range(0, len(pageText), maxLength):\n",
    "            response = comprehend_medical_client.detect_entities_v2(Text=pageText[0+i:maxLength+i])\n",
    "            comprehendResponse.append(response)\n",
    "        patient_string = \"\"\n",
    "        \n",
    "    #df_cm=extractMC_v2(comprehendResponse[0])\n",
    "    return comprehendResponse"
   ]
  },
  {
   "cell_type": "code",
   "execution_count": 6,
   "metadata": {},
   "outputs": [],
   "source": [
    "db = firestore.client()\n",
    "\n",
    "reports_ref = db.collection('reports')\n",
    "reports = reports_ref.stream()"
   ]
  },
  {
   "cell_type": "code",
   "execution_count": 38,
   "metadata": {},
   "outputs": [],
   "source": [
    "from apt import ProblemResolver\n",
    "\n",
    "\n",
    "def getOutput(fileName):\n",
    "    textractObjectName = os.path.join('public', fileName)\n",
    "    print(\"EHR file to be processed is at \", textractObjectName)\n",
    "    textract = boto3.client('textract')\n",
    "    doc=extractTextract(textractObjectName)\n",
    "    #extract data from comprehend medical\n",
    "    comprehendResponse=extractMedical(doc)\n",
    "    df_cm=extractMC_v2(comprehendResponse[0])\n",
    "    #Organize the extracted json file into dataframe\n",
    "    mclist, df_cm2=retrieve_mcList(df_cm, nFeature=20,threshold=0.9)\n",
    "    df_cm2=df_mc_generator_slim(df_cm2)\n",
    "    df_cm2_aug = df_cm2.drop('ID', axis=1)\n",
    "    sample_pred = model.predict(df_cm2_aug)\n",
    "    prob = model.predict_proba(df_cm2_aug)\n",
    "    p = [int(sample_pred),prob]\n",
    "    print(p, df_cm2.to_dict())\n",
    "    return p, df_cm2.to_dict()\n",
    "\n",
    "        "
   ]
  },
  {
   "cell_type": "code",
   "execution_count": 39,
   "metadata": {},
   "outputs": [
    {
     "name": "stdout",
     "output_type": "stream",
     "text": [
      "EHR file to be processed is at  public/sample_report_1.pdf\n",
      "job id is:  cd24232955fcd84b029529955859c7711b003f5b392b4db1f2e6b22e68bfcd61\n",
      "[0, array([[0.69589794, 0.30410203]], dtype=float32)] {'ID': {0: 0}, 'nontender': {0: 0.9877710342407227}, 'foreign body': {0: 0}, 'edema': {0: 0}, 'alert': {0: 0}, 'murmur': {0: 0}, 'chest pain': {0: 0}, 'vomiting': {0: 0.9983489513397217}, 'hiatal hernia': {0: 0}, 'distress': {0: 0}, 'hemostasis': {0: 0}, 'carpal tunnel syndrome': {0: 0}, 'endometriosis': {0: 0}, 'weakness': {0: 0}, 'pain': {0: 0}, 'mass': {0: 0.9822571873664856}, 'inflammation': {0: 0}, 'polyp': {0: 0}, 'bleeding': {0: 0}, 'hypertension': {0: 0.6807340383529663}, 'supple': {0: 0.9988003969192505}, 'fever': {0: 0}, 'stenosis': {0: 0}, 'wound': {0: 0}, 'cyanosis': {0: 0}, 'infection': {0: 0}, 'erythema': {0: 0}, 'normocephalic': {0: 0.949869692325592}, 'fracture': {0: 0}, 'lesion': {0: 0.9984696507453918}, 'ulceration': {0: 0}, 'nausea': {0: 0}, 'cough': {0: 0}, 'tumor': {0: 0}, 'soft': {0: 0.9976842403411865}, 'shortness of breath': {0: 0}, 'injury': {0: 0}, 'diabetes': {0: 0}}\n"
     ]
    },
    {
     "name": "stderr",
     "output_type": "stream",
     "text": [
      "/home/ubuntu/mediscan/aws/util/preprocess.py:71: FutureWarning: The default dtype for empty Series will be 'object' instead of 'float64' in a future version. Specify a dtype explicitly to silence this warning.\n",
      "  df_mc = pd.DataFrame({'MEDICAL_CONDITION': pd.Series(medical_conditions), 'Score':pd.Series(scores),'Trait':pd.Series(traits)})\n"
     ]
    }
   ],
   "source": [
    "pred , values = getOutput('sample_report_1.pdf')"
   ]
  },
  {
   "cell_type": "code",
   "execution_count": 24,
   "metadata": {},
   "outputs": [],
   "source": [
    "keys_list = []\n",
    "values_list = []\n",
    "for key,value in values.items():\n",
    "    if value[0] > 0:\n",
    "        keys_list.append(key)\n",
    "        values_list.append(values)\n"
   ]
  },
  {
   "cell_type": "code",
   "execution_count": 42,
   "metadata": {},
   "outputs": [
    {
     "data": {
      "text/plain": [
       "0.69589794"
      ]
     },
     "execution_count": 42,
     "metadata": {},
     "output_type": "execute_result"
    }
   ],
   "source": []
  },
  {
   "cell_type": "code",
   "execution_count": 47,
   "metadata": {},
   "outputs": [
    {
     "data": {
      "text/plain": [
       "update_time {\n",
       "  seconds: 1666441833\n",
       "  nanos: 73036000\n",
       "}"
      ]
     },
     "execution_count": 47,
     "metadata": {},
     "output_type": "execute_result"
    }
   ],
   "source": [
    "\n",
    "data = {\n",
    "    'score'  : str(round(pred[1].max(),3)),\n",
    "    'status' : 'success'\n",
    "}\n",
    "db = firestore.client()\n",
    "doc_ref = db.collection('reports')\n",
    "doc_ref.document('one').set(data)"
   ]
  },
  {
   "cell_type": "code",
   "execution_count": 40,
   "metadata": {},
   "outputs": [
    {
     "data": {
      "text/plain": [
       "[0, array([[0.69589794, 0.30410203]], dtype=float32)]"
      ]
     },
     "execution_count": 40,
     "metadata": {},
     "output_type": "execute_result"
    }
   ],
   "source": [
    "pred"
   ]
  },
  {
   "cell_type": "code",
   "execution_count": 33,
   "metadata": {},
   "outputs": [
    {
     "ename": "NameError",
     "evalue": "name 'df_cm2_aug' is not defined",
     "output_type": "error",
     "traceback": [
      "\u001b[0;31m---------------------------------------------------------------------------\u001b[0m",
      "\u001b[0;31mNameError\u001b[0m                                 Traceback (most recent call last)",
      "Cell \u001b[0;32mIn [33], line 1\u001b[0m\n\u001b[0;32m----> 1\u001b[0m model\u001b[39m.\u001b[39mpredict_proba(df_cm2_aug)\n",
      "\u001b[0;31mNameError\u001b[0m: name 'df_cm2_aug' is not defined"
     ]
    }
   ],
   "source": [
    "model.predict_proba(df_cm2_aug)"
   ]
  },
  {
   "cell_type": "code",
   "execution_count": null,
   "metadata": {},
   "outputs": [],
   "source": []
  }
 ],
 "metadata": {
  "kernelspec": {
   "display_name": "Python 3.9.6 64-bit",
   "language": "python",
   "name": "python3"
  },
  "language_info": {
   "codemirror_mode": {
    "name": "ipython",
    "version": 3
   },
   "file_extension": ".py",
   "mimetype": "text/x-python",
   "name": "python",
   "nbconvert_exporter": "python",
   "pygments_lexer": "ipython3",
   "version": "3.10.6"
  },
  "orig_nbformat": 4,
  "vscode": {
   "interpreter": {
    "hash": "31f2aee4e71d21fbe5cf8b01ff0e069b9275f58929596ceb00d14d90e3e16cd6"
   }
  }
 },
 "nbformat": 4,
 "nbformat_minor": 2
}
