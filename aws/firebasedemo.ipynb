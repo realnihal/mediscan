{
 "cells": [
  {
   "cell_type": "code",
   "execution_count": 1,
   "metadata": {},
   "outputs": [
    {
     "name": "stderr",
     "output_type": "stream",
     "text": [
      "/home/ubuntu/.local/lib/python3.10/site-packages/xgboost/compat.py:31: FutureWarning: pandas.Int64Index is deprecated and will be removed from pandas in a future version. Use pandas.Index with the appropriate dtype instead.\n",
      "  from pandas import MultiIndex, Int64Index\n",
      "/usr/lib/python3/dist-packages/pkg_resources/__init__.py:116: PkgResourcesDeprecationWarning: 0.1.43ubuntu1 is an invalid version and will not be supported in a future release\n",
      "  warnings.warn(\n",
      "/usr/lib/python3/dist-packages/pkg_resources/__init__.py:116: PkgResourcesDeprecationWarning: 1.1build1 is an invalid version and will not be supported in a future release\n",
      "  warnings.warn(\n",
      "/home/ubuntu/.local/lib/python3.10/site-packages/sklearn/base.py:329: UserWarning: Trying to unpickle estimator GridSearchCV from version 0.24.1 when using version 1.1.2. This might lead to breaking code or invalid results. Use at your own risk. For more info please refer to:\n",
      "https://scikit-learn.org/stable/model_persistence.html#security-maintainability-limitations\n",
      "  warnings.warn(\n"
     ]
    }
   ],
   "source": [
    "import json\n",
    "from time import time\n",
    "import firebase_admin\n",
    "from firebase_admin import credentials\n",
    "from firebase_admin import firestore\n",
    "import requests\n",
    "import pandas as pd\n",
    "from numpy import mean\n",
    "import pandas as pd\n",
    "import boto3\n",
    "import os\n",
    "import time\n",
    "from sklearn.datasets import make_classification\n",
    "from sklearn.model_selection import cross_val_score\n",
    "from sklearn.model_selection import RepeatedStratifiedKFold\n",
    "from sklearn.model_selection import GridSearchCV\n",
    "from xgboost import XGBClassifier\n",
    "from util.preprocess import *\n",
    "import trp\n",
    "import pickle\n",
    "# load saved model\n",
    "with open('model_pkl2' , 'rb') as f:\n",
    "    model = pickle.load(f)"
   ]
  },
  {
   "cell_type": "code",
   "execution_count": 2,
   "metadata": {},
   "outputs": [
    {
     "data": {
      "text/plain": [
       "<firebase_admin.App at 0x7f6a1c385270>"
      ]
     },
     "execution_count": 2,
     "metadata": {},
     "output_type": "execute_result"
    }
   ],
   "source": [
    "# Use a service account\n",
    "cred = credentials.Certificate('medisca-firebase-adminsdk-6jxve-caa474f363.json')\n",
    "firebase_admin.initialize_app(cred)"
   ]
  },
  {
   "cell_type": "code",
   "execution_count": 3,
   "metadata": {},
   "outputs": [],
   "source": [
    "def extract_text(textractJobId,response):\n",
    "    pages = []\n",
    "\n",
    "    time.sleep(5)\n",
    "    textract = boto3.client('textract')\n",
    "    response = textract.get_document_analysis(JobId=textractJobId)\n",
    "\n",
    "    pages.append(response)\n",
    "\n",
    "    nextToken = None\n",
    "    if('NextToken' in response):\n",
    "        nextToken = response['NextToken']\n",
    "\n",
    "    while(nextToken):\n",
    "        time.sleep(5)\n",
    "        textract = boto3.client('textract')\n",
    "        response = textract.get_document_analysis(JobId=textractJobId, NextToken=nextToken)\n",
    "\n",
    "        pages.append(response)\n",
    "        print(\"Resultset page recieved: {}\".format(len(pages)))\n",
    "        nextToken = None\n",
    "        if('NextToken' in response):\n",
    "            nextToken = response['NextToken']\n",
    "    \n",
    "    return pages "
   ]
  },
  {
   "cell_type": "code",
   "execution_count": 4,
   "metadata": {},
   "outputs": [],
   "source": [
    "def extractTextract(textractObjectName):\n",
    "    textract = boto3.client('textract')\n",
    "    response = textract.start_document_analysis(\n",
    "        DocumentLocation={\n",
    "            'S3Object': {\n",
    "            'Bucket': 'mediscan-aws-hackathon',\n",
    "            'Name': textractObjectName,\n",
    "\n",
    "        }\n",
    "            },\n",
    "        FeatureTypes=[\n",
    "            'TABLES',\n",
    "        ]\n",
    "        )\n",
    "\n",
    "    textractJobId = response[\"JobId\"]\n",
    "    print('job id is: ',textractJobId)\n",
    "    time.sleep(15)\n",
    "    response = textract.get_document_analysis(JobId=textractJobId)\n",
    "    status = response[\"JobStatus\"]\n",
    "\n",
    "    while(status == \"IN_PROGRESS\"):\n",
    "        time.sleep(5)\n",
    "        response = textract.get_document_analysis(JobId=textractJobId)\n",
    "        status = response[\"JobStatus\"]\n",
    "        print(\"Textract Job status: {}\".format(status))\n",
    "    \n",
    "    pages=extract_text(textractJobId,response)\n",
    "    doc = trp.Document(pages)\n",
    "    return doc"
   ]
  },
  {
   "cell_type": "code",
   "execution_count": 5,
   "metadata": {},
   "outputs": [],
   "source": [
    "def extractMedical(doc):\n",
    "    maxLength = 10000\n",
    "    comprehendResponse = []\n",
    "    comprehend_medical_client = boto3.client(service_name='comprehendmedical', region_name='ap-southeast-2')\n",
    "    for page in doc.pages:\n",
    "        pageText = page.text\n",
    "    \n",
    "        for i in range(0, len(pageText), maxLength):\n",
    "            response = comprehend_medical_client.detect_entities_v2(Text=pageText[0+i:maxLength+i])\n",
    "            comprehendResponse.append(response)\n",
    "        patient_string = \"\"\n",
    "        \n",
    "    #df_cm=extractMC_v2(comprehendResponse[0])\n",
    "    return comprehendResponse"
   ]
  },
  {
   "cell_type": "code",
   "execution_count": 6,
   "metadata": {},
   "outputs": [],
   "source": [
    "db = firestore.client()\n",
    "\n",
    "reports_ref = db.collection('reports')\n",
    "reports = reports_ref.stream()"
   ]
  },
  {
   "cell_type": "code",
   "execution_count": 7,
   "metadata": {},
   "outputs": [],
   "source": [
    "def getOutput(fileName):\n",
    "    textractObjectName = os.path.join('public', fileName)\n",
    "    print(\"EHR file to be processed is at \", textractObjectName)\n",
    "    textract = boto3.client('textract')\n",
    "    doc=extractTextract(textractObjectName)\n",
    "    #extract data from comprehend medical\n",
    "    comprehendResponse=extractMedical(doc)\n",
    "    df_cm=extractMC_v2(comprehendResponse[0])\n",
    "    #Organize the extracted json file into dataframe\n",
    "    mclist, df_cm2=retrieve_mcList(df_cm, nFeature=20,threshold=0.9)\n",
    "    df_cm2=df_mc_generator_slim(df_cm2)\n",
    "    df_cm2_aug = df_cm2.drop('ID', axis=1)\n",
    "    sample_pred = model.predict(df_cm2_aug)\n",
    "    p = model.predict_proba(df_cm2_aug)\n",
    "    p = [int(sample_pred),0]\n",
    "    return p, df_cm2.to_dict()\n",
    "\n",
    "        "
   ]
  },
  {
   "cell_type": "code",
   "execution_count": 8,
   "metadata": {},
   "outputs": [],
   "source": [
    "# for report in reports:\n",
    "#     uid = report.to_dict()['uid']\n",
    "#     if uid == 'sample_report_1.pdf':\n",
    "#         temp = getOutput(name)\n",
    "#         print(temp)\n"
   ]
  },
  {
   "cell_type": "code",
   "execution_count": 9,
   "metadata": {},
   "outputs": [
    {
     "name": "stdout",
     "output_type": "stream",
     "text": [
      "Nihal Puram\n",
      "Nihal Puram\n",
      "Nihal Puram\n"
     ]
    }
   ],
   "source": [
    "for report in reports:\n",
    "    name = report.to_dict()['name']\n",
    "    print(name)"
   ]
  },
  {
   "cell_type": "code",
   "execution_count": null,
   "metadata": {},
   "outputs": [],
   "source": []
  }
 ],
 "metadata": {
  "kernelspec": {
   "display_name": "Python 3.9.6 64-bit",
   "language": "python",
   "name": "python3"
  },
  "language_info": {
   "codemirror_mode": {
    "name": "ipython",
    "version": 3
   },
   "file_extension": ".py",
   "mimetype": "text/x-python",
   "name": "python",
   "nbconvert_exporter": "python",
   "pygments_lexer": "ipython3",
   "version": "3.10.6"
  },
  "orig_nbformat": 4,
  "vscode": {
   "interpreter": {
    "hash": "31f2aee4e71d21fbe5cf8b01ff0e069b9275f58929596ceb00d14d90e3e16cd6"
   }
  }
 },
 "nbformat": 4,
 "nbformat_minor": 2
}
