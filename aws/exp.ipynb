{
 "cells": [
  {
   "cell_type": "code",
   "execution_count": 12,
   "metadata": {},
   "outputs": [],
   "source": [
    "import boto3\n",
    "import time\n",
    "import sagemaker\n",
    "import os \n",
    "import trp\n",
    "import pandas as pd\n",
    "from util.preprocess import *"
   ]
  },
  {
   "cell_type": "code",
   "execution_count": 16,
   "metadata": {},
   "outputs": [],
   "source": [
    "fileName =  'Untitled document.pdf'\n",
    "textractObjectName = os.path.join('files', fileName)"
   ]
  },
  {
   "cell_type": "code",
   "execution_count": 17,
   "metadata": {},
   "outputs": [],
   "source": [
    "# Retrieve the list of existing buckets\n",
    "s3 = boto3.client('s3')\n",
    "response = s3.list_buckets()\n",
    "\n",
    "# Output the bucket names\n",
    "bucket = response['Buckets'][3]"
   ]
  },
  {
   "cell_type": "code",
   "execution_count": 18,
   "metadata": {},
   "outputs": [
    {
     "name": "stdout",
     "output_type": "stream",
     "text": [
      "job id is:  b7411b6c4bcee7371fc5416ff40d5a8a55568bc3a151269c7e298535fb94d7fb\n"
     ]
    }
   ],
   "source": [
    "textract = boto3.client('textract')\n",
    "response = textract.start_document_analysis(\n",
    "    DocumentLocation={\n",
    "        'S3Object': {\n",
    "            'Bucket': bucket[\"Name\"],\n",
    "            'Name': textractObjectName\n",
    "        }},\n",
    "    FeatureTypes=[\n",
    "        'TABLES',\n",
    "    ]\n",
    "    )\n",
    "\n",
    "textractJobId = response[\"JobId\"]\n",
    "print('job id is: ',textractJobId)"
   ]
  },
  {
   "cell_type": "code",
   "execution_count": 19,
   "metadata": {},
   "outputs": [
    {
     "name": "stdout",
     "output_type": "stream",
     "text": [
      "Textract Job status: SUCCEEDED\n",
      "CPU times: user 45.1 ms, sys: 8.79 ms, total: 53.9 ms\n",
      "Wall time: 11.2 s\n"
     ]
    }
   ],
   "source": [
    "%%time\n",
    "time.sleep(5)\n",
    "response = textract.get_document_analysis(JobId=textractJobId)\n",
    "status = response[\"JobStatus\"]\n",
    "\n",
    "while(status == \"IN_PROGRESS\"):\n",
    "    time.sleep(5)\n",
    "    response = textract.get_document_analysis(JobId=textractJobId)\n",
    "    status = response[\"JobStatus\"]\n",
    "    print(\"Textract Job status: {}\".format(status))"
   ]
  },
  {
   "cell_type": "code",
   "execution_count": 20,
   "metadata": {},
   "outputs": [
    {
     "name": "stdout",
     "output_type": "stream",
     "text": [
      "CPU times: user 47.1 ms, sys: 10.6 ms, total: 57.7 ms\n",
      "Wall time: 6.32 s\n"
     ]
    }
   ],
   "source": [
    "%%time\n",
    "pages = []\n",
    "\n",
    "time.sleep(5)\n",
    "\n",
    "response = textract.get_document_analysis(JobId=textractJobId)\n",
    "\n",
    "pages.append(response)\n",
    "\n",
    "nextToken = None\n",
    "if('NextToken' in response):\n",
    "    nextToken = response['NextToken']\n",
    "\n",
    "while(nextToken):\n",
    "    time.sleep(5)\n",
    "\n",
    "    response = textract.get_document_analysis(JobId=textractJobId, NextToken=nextToken)\n",
    "\n",
    "    pages.append(response)\n",
    "    print(\"Resultset page recieved: {}\".format(len(pages)))\n",
    "    nextToken = None\n",
    "    if('NextToken' in response):\n",
    "        nextToken = response['NextToken']"
   ]
  },
  {
   "cell_type": "code",
   "execution_count": 21,
   "metadata": {},
   "outputs": [
    {
     "name": "stdout",
     "output_type": "stream",
     "text": [
      "Total length of document is 2\n",
      "\u001b[1mResults from page 1: \n",
      "\u001b[0m PREOPERATIVE DIAGNOSIS: Medial meniscal tear of the right knee. POSTOPERATIVE\n",
      "DIAGNOSES: 1. Medial meniscal tear, right knee.,2. Lateral meniscal tear, right knee., 3.\n",
      "Osteochondral lesion, medial femoral condyle, right knee. 4. Degenerative joint disease, right\n",
      "knee., 5. Patella grade-II chondromalacia., 6. Lateral femoral condyle grade II-III\n",
      "chondromalacia. PROCEDURE PERFORMED: 1. Arthroscopy, right knee., 2. Medial\n",
      "meniscoplasty, right knee., 3. Lateral meniscoplasty, right knee. 4. Medial femoral\n",
      "chondroplasty, right knee., 5. Medical femoral microfracture, right knee., 6. Patellar\n",
      "chondroplasty.,7. Lateral femoral chondroplasty.,ANESTHESIA: General. ,,ESTIMATED\n",
      "BLOOD LOSS: , Minimal.,COMPLICATIONS: None.,BRIEF HISTORY AND INDICATION FOR\n",
      "PROCEDURE: The patient is a 47-year-old female who has knee pain since 03/10/03 after\n",
      "falling on ice. The patient states she has had inability to bear significant weight and had\n",
      "swelling, popping, and giving away, failing conservative treatment and underwent an operative\n",
      "procedure. ,PROCEDURE:, The patient was taken to the Operative Suite at ABCD General\n",
      "Hospital on 09/08/03, placed on the operative table in supine position. Department of\n",
      "Anesthesia administered general anesthetic. Once adequately anesthetized, the right lower\n",
      "extremity was placed in a Johnson knee holder. Care was ensured that all bony prominences\n",
      "were well padded and she was positioned and secured. After adequately positioned, the right\n",
      "lower extremity was prepped and draped in the usual sterile fashion. Attention was then\n",
      "directed to creation of the arthroscopic portals, both medial and lateral portal were made for\n",
      "arthroscope and instrumentation respectively. The arthroscope was advanced through the\n",
      "inferolateral portal taking in a suprapatellar pouch. All compartments were then examined in\n",
      "sequential order with photodocumentation of each compartment. The patella was noted to have\n",
      "grade-II changes of the inferior surface, otherwise appeared to track within the trochlear groove.\n",
      "There was mild grooving of the trochlear cartilage. The medial gutter was visualized. There\n",
      "was no evidence of loose body. The medial compartment was then entered. There was noted\n",
      "to be a large defect on the medial femoral condyle grade III-IV chondromalacia changes with\n",
      "exposed bone in evidence of osteochondral displaced fragment. There was also noted to be a\n",
      "degenerative meniscal tear of the posterior horn of the medial meniscus. The arthroscopic\n",
      "probe was then introduced and the meniscus and chondral surfaces were probed throughout its\n",
      "entirety and photos were taken. At this point, a meniscal shaver was then introduced and the\n",
      "chondral surfaces were debrided as well as any loose bodies removed. This gave a smooth\n",
      "shoulder to the chondral lesion. After this, the meniscus was debrided until it had been smooth\n",
      "over the frayed edges. At this point, the shaver was removed. The meniscal binder was then\n",
      "introduced and the meniscus was further debrided until the tear was adequately contained at\n",
      "this point. The shaver was reintroduced and all particles were again removed and the meniscus\n",
      "was smoothed over the edge. The probe was then reintroduced and the shaver removed, the\n",
      "meniscus was probed and now found to be stable. At this point, attention was directed to\n",
      "the rest of the knee. The ACL was examined. It was intact and stable. The lateral\n",
      "compartment was then entered. There was noted to be a grade II-III changes of the lateral\n",
      "femoral condyle. Again, with the edge of some friability at the shoulder of this cartilage lesion.\n",
      "There was noted to be some mild degenerative fraying of the posterior horn of the lateral\n",
      "meniscus. The probe was introduced and the remaining meniscus appeared stable. This was\n",
      "then removed and the stapler was introduced. A chondroplasty and meniscoplasty were then\n",
      "performed until adequately debrided and smoothed over. The lateral gutter was then visualized.\n",
      "\n",
      "\u001b[1mResults from page 2: \n",
      "\u001b[0m There was no evidence of loose bodies. Attention was then redirected back to the medial and\n",
      "femoral condyles. At this point, a 0.62 K-wire was then placed in through the initial portal, medial\n",
      "portal, as well as an additional poke hole, so we can gain access and proper orientation to the\n",
      "medial femoral lesion. Microfacial technique was then used to introduce the K-wire into the\n",
      "subchondral bone in multiple areas until we had evidence of some bleeding to allow\n",
      "of this\n",
      "lesion. After this was performed, the shaver was then reintroduced and the loose bodies and\n",
      "loose fragments were further debrided. At this point, the shaver was then moved to the\n",
      "suprapatellar pouch and the patellar chondroplasty was then performed until adequately\n",
      "debrided. Again, all compartments were then re-visualized and there was no further evidence of\n",
      "other pathology or loose bodies. The knee was then copiously irrigated and suctioned dry. All\n",
      "instrumentation was removed. Approximately 20 CC of 0.25% plain Marcaine was injected into\n",
      "the portal site and the remaining portion intraarticular. Sterile dressings of Adaptic, 4x4s, ABDs,\n",
      "and Webril were then applied. The patient was then transferred back to the gurney in supine\n",
      "position.,DISPOSITION The patient tolerated the procedure well with no complications. The\n",
      "patient was transferred to PACU in satisfactory condition.\n",
      "\n"
     ]
    }
   ],
   "source": [
    "doc = trp.Document(pages)\n",
    "print(\"Total length of document is\",len(doc.pages))\n",
    "idx=1\n",
    "for page in doc.pages:\n",
    "    print(color.BOLD + f\"Results from page {idx}: \\n\" + color.END, page.text)\n",
    "    idx=idx+1"
   ]
  },
  {
   "cell_type": "code",
   "execution_count": 22,
   "metadata": {},
   "outputs": [],
   "source": [
    "maxLength=20000\n",
    "\n",
    "comprehendResponse = []\n",
    "comprehend_medical_client = boto3.client(service_name='comprehendmedical', region_name='us-east-1')\n",
    "\n",
    "for page in doc.pages:\n",
    "    pageText = page.text\n",
    "    \n",
    "    for i in range(0, len(pageText), maxLength):\n",
    "        response = comprehend_medical_client.detect_entities_v2(Text=pageText[0+i:maxLength+i])\n",
    "        comprehendResponse.append(response)\n",
    "    patient_string = \"\""
   ]
  },
  {
   "cell_type": "code",
   "execution_count": null,
   "metadata": {},
   "outputs": [],
   "source": []
  },
  {
   "cell_type": "code",
   "execution_count": null,
   "metadata": {},
   "outputs": [],
   "source": []
  }
 ],
 "metadata": {
  "kernelspec": {
   "display_name": "Python 3.10.5 64-bit",
   "language": "python",
   "name": "python3"
  },
  "language_info": {
   "codemirror_mode": {
    "name": "ipython",
    "version": 3
   },
   "file_extension": ".py",
   "mimetype": "text/x-python",
   "name": "python",
   "nbconvert_exporter": "python",
   "pygments_lexer": "ipython3",
   "version": "3.10.5"
  },
  "orig_nbformat": 4,
  "vscode": {
   "interpreter": {
    "hash": "aee8b7b246df8f9039afb4144a1f6fd8d2ca17a180786b69acc140d282b71a49"
   }
  }
 },
 "nbformat": 4,
 "nbformat_minor": 2
}
