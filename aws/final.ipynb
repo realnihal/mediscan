{
 "cells": [
  {
   "cell_type": "code",
   "execution_count": 23,
   "metadata": {},
   "outputs": [
    {
     "name": "stderr",
     "output_type": "stream",
     "text": [
      "/home/ubuntu/.local/lib/python3.10/site-packages/sklearn/base.py:329: UserWarning: Trying to unpickle estimator GridSearchCV from version 0.24.1 when using version 1.1.2. This might lead to breaking code or invalid results. Use at your own risk. For more info please refer to:\n",
      "https://scikit-learn.org/stable/model_persistence.html#security-maintainability-limitations\n",
      "  warnings.warn(\n"
     ]
    }
   ],
   "source": [
    "from numpy import mean\n",
    "import pandas as pd\n",
    "import boto3\n",
    "import os\n",
    "import time\n",
    "from sklearn.datasets import make_classification\n",
    "from sklearn.model_selection import cross_val_score\n",
    "from sklearn.model_selection import RepeatedStratifiedKFold\n",
    "from sklearn.model_selection import GridSearchCV\n",
    "from xgboost import XGBClassifier\n",
    "from util.preprocess import *\n",
    "import trp\n",
    "import pickle\n",
    "# load saved model\n",
    "with open('model_pkl2' , 'rb') as f:\n",
    "    model = pickle.load(f)"
   ]
  },
  {
   "cell_type": "code",
   "execution_count": 24,
   "metadata": {},
   "outputs": [
    {
     "name": "stdout",
     "output_type": "stream",
     "text": [
      "{'Name': 'amplify-mediscan-dev-134554-deployment', 'CreationDate': datetime.datetime(2022, 10, 15, 8, 16, 2, tzinfo=tzlocal())}\n",
      "{'Name': 'mediscan-aws-hackathon', 'CreationDate': datetime.datetime(2022, 10, 13, 12, 42, 15, tzinfo=tzlocal())}\n",
      "{'Name': 'sagemaker-ap-south-1-134811648823', 'CreationDate': datetime.datetime(2022, 10, 13, 18, 0, 15, tzinfo=tzlocal())}\n"
     ]
    }
   ],
   "source": [
    "# Retrieve the list of existing buckets\n",
    "s3 = boto3.client('s3')\n",
    "response = s3.list_buckets()\n",
    "\n",
    "# Output the bucket names\n",
    "for bucket in response['Buckets']:\n",
    "    print(bucket);\n"
   ]
  },
  {
   "cell_type": "code",
   "execution_count": 25,
   "metadata": {},
   "outputs": [],
   "source": [
    "def extract_text(textractJobId,response):\n",
    "    pages = []\n",
    "\n",
    "    time.sleep(5)\n",
    "    textract = boto3.client('textract')\n",
    "    response = textract.get_document_analysis(JobId=textractJobId)\n",
    "\n",
    "    pages.append(response)\n",
    "\n",
    "    nextToken = None\n",
    "    if('NextToken' in response):\n",
    "        nextToken = response['NextToken']\n",
    "\n",
    "    while(nextToken):\n",
    "        time.sleep(5)\n",
    "        textract = boto3.client('textract')\n",
    "        response = textract.get_document_analysis(JobId=textractJobId, NextToken=nextToken)\n",
    "\n",
    "        pages.append(response)\n",
    "        print(\"Resultset page recieved: {}\".format(len(pages)))\n",
    "        nextToken = None\n",
    "        if('NextToken' in response):\n",
    "            nextToken = response['NextToken']\n",
    "    \n",
    "    return pages "
   ]
  },
  {
   "cell_type": "code",
   "execution_count": 26,
   "metadata": {},
   "outputs": [],
   "source": [
    "def extractTextract(bucket,textractObjectName):\n",
    "    textract = boto3.client('textract')\n",
    "    response = textract.start_document_analysis(\n",
    "        DocumentLocation={\n",
    "            'S3Object': {\n",
    "            'Bucket': 'mediscan-aws-hackathon',\n",
    "            'Name': 'sample_report_1.pdf',\n",
    "\n",
    "        }\n",
    "            },\n",
    "        FeatureTypes=[\n",
    "            'TABLES',\n",
    "        ]\n",
    "        )\n",
    "\n",
    "    textractJobId = response[\"JobId\"]\n",
    "    print('job id is: ',textractJobId)\n",
    "    time.sleep(15)\n",
    "    response = textract.get_document_analysis(JobId=textractJobId)\n",
    "    status = response[\"JobStatus\"]\n",
    "\n",
    "    while(status == \"IN_PROGRESS\"):\n",
    "        time.sleep(5)\n",
    "        response = textract.get_document_analysis(JobId=textractJobId)\n",
    "        status = response[\"JobStatus\"]\n",
    "        print(\"Textract Job status: {}\".format(status))\n",
    "    \n",
    "    pages=extract_text(textractJobId,response)\n",
    "    doc = trp.Document(pages)\n",
    "    return doc"
   ]
  },
  {
   "cell_type": "code",
   "execution_count": 27,
   "metadata": {},
   "outputs": [],
   "source": [
    "def extractMedical(doc):\n",
    "    maxLength = 10000\n",
    "    comprehendResponse = []\n",
    "    comprehend_medical_client = boto3.client(service_name='comprehendmedical', region_name='ap-southeast-2')\n",
    "    for page in doc.pages:\n",
    "        pageText = page.text\n",
    "    \n",
    "        for i in range(0, len(pageText), maxLength):\n",
    "            response = comprehend_medical_client.detect_entities_v2(Text=pageText[0+i:maxLength+i])\n",
    "            comprehendResponse.append(response)\n",
    "        patient_string = \"\"\n",
    "        \n",
    "    #df_cm=extractMC_v2(comprehendResponse[0])\n",
    "    return comprehendResponse\n",
    "\n",
    "#############################################################################################\n",
    "############# functions to convert all medical conditions to 1 record ########################"
   ]
  },
  {
   "cell_type": "code",
   "execution_count": 28,
   "metadata": {},
   "outputs": [
    {
     "name": "stdout",
     "output_type": "stream",
     "text": [
      "EHR file to be processed is at  public/sample_report_1.pdf\n",
      "job id is:  1ca8bf776a732633fd0d44dda63ff0c2aee06f7bdc72fc7d788cb3c03b4e851a\n"
     ]
    },
    {
     "name": "stderr",
     "output_type": "stream",
     "text": [
      "/home/ubuntu/mediscan/aws/util/preprocess.py:71: FutureWarning: The default dtype for empty Series will be 'object' instead of 'float64' in a future version. Specify a dtype explicitly to silence this warning.\n",
      "  df_mc = pd.DataFrame({'MEDICAL_CONDITION': pd.Series(medical_conditions), 'Score':pd.Series(scores),'Trait':pd.Series(traits)})\n"
     ]
    }
   ],
   "source": [
    "# pipeline for new pdf\n",
    "#extract data from textract\n",
    "fileName =  'sample_report_1.pdf'\n",
    "textractObjectName = os.path.join('public', fileName)\n",
    "print(\"EHR file to be processed is at \", textractObjectName)\n",
    "textract = boto3.client('textract')\n",
    "doc=extractTextract(bucket,textractObjectName)\n",
    "#extract data from comprehend medical\n",
    "comprehendResponse=extractMedical(doc)\n",
    "df_cm=extractMC_v2(comprehendResponse[0])\n",
    "#Organize the extracted json file into dataframe\n",
    "mclist, df_cm2=retrieve_mcList(df_cm, nFeature=20,threshold=0.9)\n",
    "df_cm2=df_mc_generator_slim(df_cm2)"
   ]
  },
  {
   "cell_type": "code",
   "execution_count": 29,
   "metadata": {},
   "outputs": [
    {
     "name": "stdout",
     "output_type": "stream",
     "text": [
      "<class 'pandas.core.frame.DataFrame'>\n",
      "Int64Index: 1 entries, 0 to 0\n",
      "Data columns (total 38 columns):\n",
      " #   Column                  Non-Null Count  Dtype  \n",
      "---  ------                  --------------  -----  \n",
      " 0   ID                      1 non-null      int64  \n",
      " 1   nontender               1 non-null      float64\n",
      " 2   foreign body            1 non-null      int64  \n",
      " 3   edema                   1 non-null      int64  \n",
      " 4   alert                   1 non-null      int64  \n",
      " 5   murmur                  1 non-null      int64  \n",
      " 6   chest pain              1 non-null      int64  \n",
      " 7   vomiting                1 non-null      float64\n",
      " 8   hiatal hernia           1 non-null      int64  \n",
      " 9   distress                1 non-null      int64  \n",
      " 10  hemostasis              1 non-null      int64  \n",
      " 11  carpal tunnel syndrome  1 non-null      int64  \n",
      " 12  endometriosis           1 non-null      int64  \n",
      " 13  weakness                1 non-null      int64  \n",
      " 14  pain                    1 non-null      int64  \n",
      " 15  mass                    1 non-null      float64\n",
      " 16  inflammation            1 non-null      int64  \n",
      " 17  polyp                   1 non-null      int64  \n",
      " 18  bleeding                1 non-null      int64  \n",
      " 19  hypertension            1 non-null      float64\n",
      " 20  supple                  1 non-null      float64\n",
      " 21  fever                   1 non-null      int64  \n",
      " 22  stenosis                1 non-null      int64  \n",
      " 23  wound                   1 non-null      int64  \n",
      " 24  cyanosis                1 non-null      int64  \n",
      " 25  infection               1 non-null      int64  \n",
      " 26  erythema                1 non-null      int64  \n",
      " 27  normocephalic           1 non-null      float64\n",
      " 28  fracture                1 non-null      int64  \n",
      " 29  lesion                  1 non-null      float64\n",
      " 30  ulceration              1 non-null      int64  \n",
      " 31  nausea                  1 non-null      int64  \n",
      " 32  cough                   1 non-null      int64  \n",
      " 33  tumor                   1 non-null      int64  \n",
      " 34  soft                    1 non-null      float64\n",
      " 35  shortness of breath     1 non-null      int64  \n",
      " 36  injury                  1 non-null      int64  \n",
      " 37  diabetes                1 non-null      int64  \n",
      "dtypes: float64(8), int64(30)\n",
      "memory usage: 312.0 bytes\n"
     ]
    }
   ],
   "source": [
    "df_cm2.info()"
   ]
  },
  {
   "cell_type": "code",
   "execution_count": 30,
   "metadata": {},
   "outputs": [
    {
     "name": "stdout",
     "output_type": "stream",
     "text": [
      "<class 'pandas.core.frame.DataFrame'>\n",
      "Int64Index: 1 entries, 0 to 0\n",
      "Data columns (total 37 columns):\n",
      " #   Column                  Non-Null Count  Dtype  \n",
      "---  ------                  --------------  -----  \n",
      " 0   nontender               1 non-null      float64\n",
      " 1   foreign body            1 non-null      int64  \n",
      " 2   edema                   1 non-null      int64  \n",
      " 3   alert                   1 non-null      int64  \n",
      " 4   murmur                  1 non-null      int64  \n",
      " 5   chest pain              1 non-null      int64  \n",
      " 6   vomiting                1 non-null      float64\n",
      " 7   hiatal hernia           1 non-null      int64  \n",
      " 8   distress                1 non-null      int64  \n",
      " 9   hemostasis              1 non-null      int64  \n",
      " 10  carpal tunnel syndrome  1 non-null      int64  \n",
      " 11  endometriosis           1 non-null      int64  \n",
      " 12  weakness                1 non-null      int64  \n",
      " 13  pain                    1 non-null      int64  \n",
      " 14  mass                    1 non-null      float64\n",
      " 15  inflammation            1 non-null      int64  \n",
      " 16  polyp                   1 non-null      int64  \n",
      " 17  bleeding                1 non-null      int64  \n",
      " 18  hypertension            1 non-null      float64\n",
      " 19  supple                  1 non-null      float64\n",
      " 20  fever                   1 non-null      int64  \n",
      " 21  stenosis                1 non-null      int64  \n",
      " 22  wound                   1 non-null      int64  \n",
      " 23  cyanosis                1 non-null      int64  \n",
      " 24  infection               1 non-null      int64  \n",
      " 25  erythema                1 non-null      int64  \n",
      " 26  normocephalic           1 non-null      float64\n",
      " 27  fracture                1 non-null      int64  \n",
      " 28  lesion                  1 non-null      float64\n",
      " 29  ulceration              1 non-null      int64  \n",
      " 30  nausea                  1 non-null      int64  \n",
      " 31  cough                   1 non-null      int64  \n",
      " 32  tumor                   1 non-null      int64  \n",
      " 33  soft                    1 non-null      float64\n",
      " 34  shortness of breath     1 non-null      int64  \n",
      " 35  injury                  1 non-null      int64  \n",
      " 36  diabetes                1 non-null      int64  \n",
      "dtypes: float64(8), int64(29)\n",
      "memory usage: 304.0 bytes\n"
     ]
    }
   ],
   "source": [
    "#Prediction with the endpoint\n",
    "df_cm2_aug = df_cm2.drop('ID', axis=1)\n",
    "df_cm2_aug.info()"
   ]
  },
  {
   "cell_type": "code",
   "execution_count": 31,
   "metadata": {},
   "outputs": [
    {
     "name": "stdout",
     "output_type": "stream",
     "text": [
      "[0]\n"
     ]
    }
   ],
   "source": [
    "sample_pred = model.predict(df_cm2_aug)\n",
    "p = model.predict_proba(df_cm2_aug)\n",
    "p=[int(sample_pred),0]\n",
    "print(p)"
   ]
  },
  {
   "cell_type": "code",
   "execution_count": null,
   "metadata": {},
   "outputs": [],
   "source": []
  }
 ],
 "metadata": {
  "kernelspec": {
   "display_name": "Python 3.9.6 64-bit",
   "language": "python",
   "name": "python3"
  },
  "language_info": {
   "codemirror_mode": {
    "name": "ipython",
    "version": 3
   },
   "file_extension": ".py",
   "mimetype": "text/x-python",
   "name": "python",
   "nbconvert_exporter": "python",
   "pygments_lexer": "ipython3",
   "version": "3.10.6"
  },
  "orig_nbformat": 4,
  "vscode": {
   "interpreter": {
    "hash": "31f2aee4e71d21fbe5cf8b01ff0e069b9275f58929596ceb00d14d90e3e16cd6"
   }
  }
 },
 "nbformat": 4,
 "nbformat_minor": 2
}
