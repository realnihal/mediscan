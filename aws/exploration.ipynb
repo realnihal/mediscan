{
 "cells": [
  {
   "cell_type": "code",
   "execution_count": 16,
   "metadata": {},
   "outputs": [],
   "source": [
    "# !pip install textract-trp"
   ]
  },
  {
   "cell_type": "code",
   "execution_count": 1,
   "metadata": {},
   "outputs": [],
   "source": [
    "import boto3\n",
    "import time\n",
    "import sagemaker\n",
    "import os \n",
    "import trp\n",
    "import pandas as pd\n",
    "from util.preprocess import *\n",
    "bucket = sagemaker.Session().default_bucket()\n",
    "prefix = 'sagemaker/medical_notes'"
   ]
  },
  {
   "cell_type": "code",
   "execution_count": 2,
   "metadata": {},
   "outputs": [],
   "source": [
    "fileName =  'sample_report_1.pdf'\n",
    "fileUploadPath = os.path.join('./data', fileName)\n",
    "textractObjectName = os.path.join(prefix, 'data', fileName)\n",
    "\n",
    "# Upload medical report file\n",
    "boto3.Session().resource('s3').Bucket(bucket).Object(textractObjectName).upload_file(fileUploadPath)"
   ]
  },
  {
   "cell_type": "code",
   "execution_count": 3,
   "metadata": {},
   "outputs": [
    {
     "name": "stdout",
     "output_type": "stream",
     "text": [
      "job id is:  ebb4521509f320238bfc72b5f0e669612d4fa2c19937fa2da97160a936554290\n"
     ]
    }
   ],
   "source": [
    "textract = boto3.client('textract')\n",
    "response = textract.start_document_analysis(\n",
    "    DocumentLocation={\n",
    "        'S3Object': {\n",
    "            'Bucket': bucket,\n",
    "            'Name': textractObjectName\n",
    "        }},\n",
    "    FeatureTypes=[\n",
    "        'TABLES',\n",
    "    ]\n",
    "    )\n",
    "\n",
    "textractJobId = response[\"JobId\"]\n",
    "print('job id is: ',textractJobId)"
   ]
  },
  {
   "cell_type": "code",
   "execution_count": 4,
   "metadata": {},
   "outputs": [
    {
     "name": "stdout",
     "output_type": "stream",
     "text": [
      "Textract Job status: SUCCEEDED\n",
      "CPU times: user 68.3 ms, sys: 9.77 ms, total: 78 ms\n",
      "Wall time: 11.9 s\n"
     ]
    }
   ],
   "source": [
    "%%time\n",
    "time.sleep(5)\n",
    "response = textract.get_document_analysis(JobId=textractJobId)\n",
    "status = response[\"JobStatus\"]\n",
    "\n",
    "while(status == \"IN_PROGRESS\"):\n",
    "    time.sleep(5)\n",
    "    response = textract.get_document_analysis(JobId=textractJobId)\n",
    "    status = response[\"JobStatus\"]\n",
    "    print(\"Textract Job status: {}\".format(status))\n",
    "    "
   ]
  },
  {
   "cell_type": "code",
   "execution_count": 5,
   "metadata": {},
   "outputs": [
    {
     "name": "stdout",
     "output_type": "stream",
     "text": [
      "CPU times: user 62.3 ms, sys: 9.8 ms, total: 72.1 ms\n",
      "Wall time: 6.47 s\n"
     ]
    }
   ],
   "source": [
    "%%time\n",
    "pages = []\n",
    "\n",
    "time.sleep(5)\n",
    "\n",
    "response = textract.get_document_analysis(JobId=textractJobId)\n",
    "\n",
    "pages.append(response)\n",
    "\n",
    "nextToken = None\n",
    "if('NextToken' in response):\n",
    "    nextToken = response['NextToken']\n",
    "\n",
    "while(nextToken):\n",
    "    time.sleep(5)\n",
    "\n",
    "    response = textract.get_document_analysis(JobId=textractJobId, NextToken=nextToken)\n",
    "\n",
    "    pages.append(response)\n",
    "    print(\"Resultset page recieved: {}\".format(len(pages)))\n",
    "    nextToken = None\n",
    "    if('NextToken' in response):\n",
    "        nextToken = response['NextToken']"
   ]
  },
  {
   "cell_type": "code",
   "execution_count": 8,
   "metadata": {},
   "outputs": [
    {
     "name": "stdout",
     "output_type": "stream",
     "text": [
      "Total length of document is 2\n",
      "\u001b[1mResults from page 1: \n",
      "\u001b[0m Discharge Summary\n",
      "Name\n",
      "Terri Hodosy\n",
      "Birth Date\n",
      "10/22/1962\n",
      "Gender\n",
      "female\n",
      "Post Code\n",
      "1826\n",
      "Admission Date\n",
      "01/01/2020\n",
      "Discharge Date\n",
      "01/20/2020\n",
      "Medications\n",
      "HISTORY: This 15-day-old female presents to Children's Hospital and transferred from Hospital\n",
      "Emergency Department for further evaluation. Information is obtained in discussion with the mother\n",
      "and the grandmother in review of previous medical records. This patient had the onset on the day of\n",
      "presentation of a jelly-like red-brown stool started on Tuesday morning. Then, the patient was noted\n",
      "to vomit after feeds. The patient was evaluated at Hospital with further evaluation with laboratory\n",
      "data showing a white blood cell count elevated at 22.2; hemoglobin 14.1; sodium 138; potassium 7.2,\n",
      "possibly hemolyzed; chloride 107; CO2 23; BUN 17; creatinine 1.2; and glucose of 50, which was\n",
      "repeated and found to be stable in that range. The patient underwent a barium enema, which was\n",
      "read by the radiologist as negative. The patient was transferred to Children's Hospital for further\n",
      "evaluation after being given doses of ampicillin, cefotaxime, and Rocephin., PAST MEDICAL\n",
      "HISTORY:, Further, the patient was born in Hospital. Birth weight was 6 pounds 4 ounces. There\n",
      "was maternal hypertension. Mother denies group B strep or herpes. Otherwise, no past medical\n",
      "history.,IMMUNIZATIONS: None today. MEDICATIONS: Thrush medicine identified as\n",
      "lystatin.,ALLERGIES:, Denied., PAST SURGICAL HISTORY: Denied. SOCIAL HISTORY: ,Here\n",
      "with mother and grandmother, lives at home. There is no smoking at home. FAMILY HISTORY:\n",
      "None noted exposures., REVIEW OF SYSTEMS: The patient is fed Enfamil, bottle-fed. Has had\n",
      "decreased feeding, has had vomiting, has had diarrhea, otherwise negative on the 10 plus systems\n",
      "reviewed.,PHYSICAL EXAMINATION: VITAL SIGNS/GENERAL: On physical examination, the initial\n",
      "temperature 97.5, pulse 140, respirations 48 on this 2 kg 15-day-old female who is small,\n",
      "well-developed female, age appropriate., HEENT: Head is atraumatic and normocephalic with a soft\n",
      "and flat anterior fontanelle. Pupils are equal, round, and reactive to light. Grossly conjugate.\n",
      "Bilateral red reflex appreciated bilaterally. Clear TMs, nose, and oropharynx. There is a kind of\n",
      "abundant thrush and white patches on the tongue. NECK: Supple, full, painless, and nontender\n",
      "range of motion. CHEST: Clear to auscultation, equal, and stable. HEART: Regular without rubs\n",
      "or\n",
      "murmurs, and femoral pulses are appreciated aterally.,ABDOMEN: Soft and nontender. No\n",
      "hepatosplenomegaly or masses., ,GENITALIA: Female genitalia is present on a visual\n",
      "examination., SKIN: No significant bruising, lesions, or rash. ,,EXTREMITIES: Moves all extremities,\n",
      "and nontender. No deformity. NEUROLOGICALLY: Eyes open, moves all extremities, grossly age\n",
      "appropriate., MEDICAL DECISION MAKING: The differential entertained on this patient includes\n",
      "\n",
      "\u001b[1mResults from page 2: \n",
      "\u001b[0m upper respiratory infection, gastroenteritis, urinary tract infection, dehydration, acidosis, and viral\n",
      "syndrome. The patient is evaluated in the emergency department laboratory data, which shows a\n",
      "white blood cell count of 13.1, hemoglobin 14.0, platelets 267,000, 7 stabs, 68 segs, 15 lymphs, and\n",
      "9 monos. Serum electrolytes not normal. Sodium 138, potassium 5.0, chloride 107, CO2 acidotic at\n",
      "18, glucose normal at 88, and BUN markedly elevated at 22 as is the creatinine of 1.4. AST and ALT\n",
      "were elevated as well at 412 and 180 respectively. A cath urinalysis showing no signs of infection.\n",
      "Spinal fluid evaluation, please see procedure note below. White count 0, red count 2060. Gram\n",
      "stain negative. PROCEDURE NOTE: , After discussion of the risks, benefits, and indications, and\n",
      "obtaining informed consent with the family and their agreement to proceed, this patient was placed in\n",
      "the left lateral position and using aseptic Betadine preparation, sterile draping, and sterile technique\n",
      "pursued throughout, this patient's L4- L5 interspace was anesthetized with the 1% lidocaine solution\n",
      "following the above sterile preparation, entered with a 22-gauge styletted spinal needle of\n",
      "approximately 0.5 mL clear CSF, they were very slow to obtain. The fluid was obtained, the needle\n",
      "was removed, and sterile bandage was placed. The fluid was sent to laboratory for further evaluation\n",
      "(aunt and grandmother) were present throughout the period of time during this procedure and the\n",
      "procedure was tolerated well. An i-STAT initially obtained showed somewhat of an acidosis with a\n",
      "base excess of -12. A repeat i-STAT after a bolus of normal saline and a second bolus of normal\n",
      "saline, her maintenance rate of D5 half showed a base excess of -11, which is slowly improving, but\n",
      "not very fast. Based on the above having this patient consulted to the Hospitalist Service at 2326\n",
      "hours of request, this patient was consulted to PICU with the plan that the patient need to have\n",
      "continued IV fluids. Showing signs of dehydration, a third bolus of normal saline was provided, twice\n",
      "maintenance D5 half was continued. The patient was admitted to the Hospitalist Service for\n",
      "continued IV fluids. The patient maintains to have clear lungs, has been feeding well here in the\n",
      "department, took virtually a whole small bottle of the appropriate formula. She has not had any\n",
      "vomiting, is burping. The patient is admitted for continued close observation and rehydration due to\n",
      "the working diagnoses of gastroenteritis, metabolic acidosis, and dehydration. Critical care time on\n",
      "this patient is less than 30 minutes, exclusive, otherwise time has been spent evaluating this patient\n",
      "according to this patient's care and admission to the Hospitalist Service.\n",
      "\n"
     ]
    }
   ],
   "source": [
    "doc = trp.Document(pages)\n",
    "print(\"Total length of document is\",len(doc.pages))\n",
    "idx=1\n",
    "for page in doc.pages:\n",
    "    print(color.BOLD + f\"Results from page {idx}: \\n\" + color.END, page.text)\n",
    "    idx=idx+1"
   ]
  },
  {
   "cell_type": "code",
   "execution_count": 9,
   "metadata": {},
   "outputs": [],
   "source": [
    "maxLength=20000\n",
    "\n",
    "comprehendResponse = []\n",
    "comprehend_medical_client = boto3.client(service_name='comprehendmedical', region_name='us-east-1')\n",
    "\n",
    "for page in doc.pages:\n",
    "    pageText = page.text\n",
    "    \n",
    "    for i in range(0, len(pageText), maxLength):\n",
    "        response = comprehend_medical_client.detect_entities_v2(Text=pageText[0+i:maxLength+i])\n",
    "        comprehendResponse.append(response)\n",
    "    patient_string = \"\""
   ]
  },
  {
   "cell_type": "code",
   "execution_count": 10,
   "metadata": {},
   "outputs": [
    {
     "name": "stderr",
     "output_type": "stream",
     "text": [
      "/Users/nihal/Development/aws/util/preprocess.py:71: FutureWarning: The default dtype for empty Series will be 'object' instead of 'float64' in a future version. Specify a dtype explicitly to silence this warning.\n",
      "  df_mc = pd.DataFrame({'MEDICAL_CONDITION': pd.Series(medical_conditions), 'Score':pd.Series(scores),'Trait':pd.Series(traits)})\n"
     ]
    },
    {
     "data": {
      "text/plain": [
       "<bound method NDFrame.head of                  MEDICAL_CONDITION     Score      Trait  ID\n",
       "0       jelly-like red-brown stool  0.366495       SIGN   1\n",
       "1                            vomit  0.885382       SIGN   1\n",
       "2                     hypertension  0.680734  DIAGNOSIS   1\n",
       "3                    group B strep  0.759387        NaN   1\n",
       "4                           herpes  0.591829        NaN   1\n",
       "5                           Denied  0.512226        NaN   1\n",
       "6                decreased feeding  0.561370       SIGN   1\n",
       "7                         vomiting  0.998349        NaN   1\n",
       "8                         diarrhea  0.992750        NaN   1\n",
       "9                            small  0.776869       SIGN   1\n",
       "10                  well-developed  0.944883       SIGN   1\n",
       "11                 age appropriate  0.656153       SIGN   1\n",
       "12                      atraumatic  0.948751       SIGN   1\n",
       "13                   normocephalic  0.949870       SIGN   1\n",
       "14                           equal  0.556062       SIGN   1\n",
       "15                           round  0.873505       SIGN   1\n",
       "16               reactive to light  0.942615       SIGN   1\n",
       "17               Grossly conjugate  0.651838       SIGN   1\n",
       "18          red reflex appreciated  0.442761        NaN   1\n",
       "19                 abundant thrush  0.505688       SIGN   1\n",
       "20                   white patches  0.539424       SIGN   1\n",
       "21                          Supple  0.998800       SIGN   1\n",
       "22                            full  0.825323       SIGN   1\n",
       "23                        painless  0.965418       SIGN   1\n",
       "24                       nontender  0.614322        NaN   1\n",
       "25                 range of motion  0.898655       SIGN   1\n",
       "26           Clear to auscultation  0.936735       SIGN   1\n",
       "27                           equal  0.764036       SIGN   1\n",
       "28                         Regular  0.659526       SIGN   1\n",
       "29                            rubs  0.486756        NaN   1\n",
       "30                         murmurs  0.945721   NEGATION   1\n",
       "31  femoral pulses are appreciated  0.461998        NaN   1\n",
       "32                            Soft  0.997684       SIGN   1\n",
       "33                       nontender  0.988043       SIGN   1\n",
       "34              hepatosplenomegaly  0.993439   NEGATION   1\n",
       "35                          masses  0.982257   NEGATION   1\n",
       "36     Female genitalia is present  0.261216        NaN   1\n",
       "37                        bruising  0.960194   NEGATION   1\n",
       "38                         lesions  0.998470   NEGATION   1\n",
       "39                            rash  0.998668   NEGATION   1\n",
       "40           Moves all extremities  0.898783       SIGN   1\n",
       "41                       nontender  0.987771       SIGN   1\n",
       "42                       deformity  0.990878   NEGATION   1\n",
       "43                       Eyes open  0.550757       SIGN   1\n",
       "44           moves all extremities  0.933598       SIGN   1\n",
       "45                     grossly age  0.678213       SIGN   1>"
      ]
     },
     "execution_count": 10,
     "metadata": {},
     "output_type": "execute_result"
    }
   ],
   "source": [
    "df_cm=extractMC_v2(comprehendResponse[0])\n",
    "df_cm['ID']=1\n",
    "df_cm.head"
   ]
  },
  {
   "cell_type": "code",
   "execution_count": 11,
   "metadata": {},
   "outputs": [
    {
     "data": {
      "text/plain": [
       "{'ResponseMetadata': {'RequestId': '1XA72GVTCKTH7SPM',\n",
       "  'HostId': 'Vkf3xcFA9g9DR+44SOesmK5mlyfv33//aYJNx/reIlriwbpOn/GFiG1/YIC4hg5eqz7txreck+k=',\n",
       "  'HTTPStatusCode': 204,\n",
       "  'HTTPHeaders': {'x-amz-id-2': 'Vkf3xcFA9g9DR+44SOesmK5mlyfv33//aYJNx/reIlriwbpOn/GFiG1/YIC4hg5eqz7txreck+k=',\n",
       "   'x-amz-request-id': '1XA72GVTCKTH7SPM',\n",
       "   'date': 'Sun, 09 Oct 2022 10:39:37 GMT',\n",
       "   'server': 'AmazonS3'},\n",
       "  'RetryAttempts': 0}}"
      ]
     },
     "execution_count": 11,
     "metadata": {},
     "output_type": "execute_result"
    }
   ],
   "source": [
    "boto3.Session().resource('s3').Bucket(bucket).Object(textractObjectName).delete()"
   ]
  },
  {
   "cell_type": "code",
   "execution_count": null,
   "metadata": {},
   "outputs": [],
   "source": []
  }
 ],
 "metadata": {
  "kernelspec": {
   "display_name": "Python 3.10.5 64-bit",
   "language": "python",
   "name": "python3"
  },
  "language_info": {
   "codemirror_mode": {
    "name": "ipython",
    "version": 3
   },
   "file_extension": ".py",
   "mimetype": "text/x-python",
   "name": "python",
   "nbconvert_exporter": "python",
   "pygments_lexer": "ipython3",
   "version": "3.10.5"
  },
  "orig_nbformat": 4,
  "vscode": {
   "interpreter": {
    "hash": "aee8b7b246df8f9039afb4144a1f6fd8d2ca17a180786b69acc140d282b71a49"
   }
  }
 },
 "nbformat": 4,
 "nbformat_minor": 2
}
